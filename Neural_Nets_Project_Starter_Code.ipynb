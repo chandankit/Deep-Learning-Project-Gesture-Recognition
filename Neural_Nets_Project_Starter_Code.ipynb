{
 "cells": [
  {
   "cell_type": "markdown",
   "metadata": {},
   "source": [
    "# Gesture Recognition\n",
    "In this group project, you are going to build a 3D Conv model that will be able to predict the 5 gestures correctly. Please import the following libraries to get started."
   ]
  },
  {
   "cell_type": "code",
   "execution_count": 1,
   "metadata": {},
   "outputs": [],
   "source": [
    "import imageio    #mageio is a Python library that provides an easy interface to read and write a wide range of image data, including animated images, volumetric data, and scientific formats. "
   ]
  },
  {
   "cell_type": "code",
   "execution_count": 2,
   "metadata": {},
   "outputs": [],
   "source": [
    "from imageio import imread,imwrite,imsave"
   ]
  },
  {
   "cell_type": "code",
   "execution_count": 3,
   "metadata": {},
   "outputs": [],
   "source": [
    "import numpy as np\n",
    "import os\n",
    "# from scipy.misc import imread, imresize\n",
    "import datetime\n",
    "import random\n",
    "from matplotlib import pyplot as plt"
   ]
  },
  {
   "cell_type": "code",
   "execution_count": 4,
   "metadata": {},
   "outputs": [],
   "source": [
    "from skimage.transform import resize"
   ]
  },
  {
   "cell_type": "markdown",
   "metadata": {},
   "source": [
    "We set the random seed so that the results don't vary drastically."
   ]
  },
  {
   "cell_type": "code",
   "execution_count": 5,
   "metadata": {},
   "outputs": [
    {
     "name": "stderr",
     "output_type": "stream",
     "text": [
      "Using TensorFlow backend.\n"
     ]
    }
   ],
   "source": [
    "np.random.seed(30)\n",
    "import random as rn\n",
    "rn.seed(30)\n",
    "from keras import backend as K\n",
    "import tensorflow as tf\n",
    "tf.set_random_seed(30)"
   ]
  },
  {
   "cell_type": "markdown",
   "metadata": {},
   "source": [
    "In this block, you read the folder names for training and validation. You also set the `batch_size` here. Note that you set the batch size in such a way that you are able to use the GPU in full capacity. You keep increasing the batch size until the machine throws an error."
   ]
  },
  {
   "cell_type": "code",
   "execution_count": 6,
   "metadata": {},
   "outputs": [],
   "source": [
    "train_doc = np.random.permutation(open('/notebooks/storage/Final_data/Collated_training/train.csv').readlines())\n",
    "val_doc = np.random.permutation(open('/notebooks/storage/Final_data/Collated_training/val.csv').readlines())\n",
    "batch_size = 50 #experiment with the batch size"
   ]
  },
  {
   "cell_type": "markdown",
   "metadata": {},
   "source": [
    "## Generator\n",
    "This is one of the most important part of the code. The overall structure of the generator has been given. In the generator, you are going to preprocess the images as you have images of 2 different dimensions as well as create a batch of video frames. You have to experiment with `img_idx`, `y`,`z` and normalization such that you get high accuracy."
   ]
  },
  {
   "cell_type": "code",
   "execution_count": 7,
   "metadata": {},
   "outputs": [],
   "source": [
    "x = 30 # # x is the number of images\n",
    "y = 120 # width of the image\n",
    "z = 120 # height of the image"
   ]
  },
  {
   "cell_type": "code",
   "execution_count": 8,
   "metadata": {},
   "outputs": [],
   "source": [
    "def generator(source_path, folder_list, batch_size):\n",
    "    print( 'Source path = ', source_path, '; batch size =', batch_size)\n",
    "    img_idx = [x for x in range(0,x)] #create a list of image numbers you want to use for a particular video\n",
    "    while True:\n",
    "        t = np.random.permutation(folder_list)\n",
    "        num_batches = len(folder_list)//batch_size # calculate the number of batches\n",
    "        for batch in range(num_batches): # we iterate over the number of batches\n",
    "            batch_data = np.zeros((batch_size,x,y,z,3)) # x is the number of images you use for each video, (y,z) is the final size of the input images and 3 is the number of channels RGB\n",
    "            batch_labels = np.zeros((batch_size,5)) # batch_labels is the one hot representation of the output\n",
    "            for folder in range(batch_size): # iterate over the batch_size\n",
    "                imgs = os.listdir(source_path+'/'+ t[folder + (batch*batch_size)].split(';')[0]) # read all the images in the folder\n",
    "                for idx,item in enumerate(img_idx): #  Iterate iver the frames/images of a folder to read them in\n",
    "                    image = imread(source_path+'/'+ t[folder + (batch*batch_size)].strip().split(';')[0]+'/'+imgs[item]).astype(np.float32)\n",
    "                    \n",
    "                    #crop the images and resize them. Note that the images are of 2 different shape \n",
    "                    #and the conv3D will throw error if the inputs in a batch have different shapes\n",
    "                    temp = resize(image,(120,120))\n",
    "                    temp = temp/127.5-1 #Normalize data\n",
    "                    \n",
    "                    batch_data[folder,idx,:,:,0] = (temp[:,:,0]) #normalise and feed in the image\n",
    "                    batch_data[folder,idx,:,:,1] = (temp[:,:,1]) #normalise and feed in the image\n",
    "                    batch_data[folder,idx,:,:,2] = (temp[:,:,2]) #normalise and feed in the image\n",
    "                    \n",
    "                batch_labels[folder, int(t[folder + (batch*batch_size)].strip().split(';')[2])] = 1\n",
    "            yield batch_data, batch_labels #you yield the batch_data and the batch_labels, remember what does yield do\n",
    "\n",
    "        \n",
    "        # write the code for the remaining data points which are left after full batches\n",
    "        if (len(folder_list) != batch_size*num_batches):\n",
    "                    print(\"Batch: \",num_batches+1,\"Index:\", batch_size)\n",
    "                    batch_size = len(folder_list) - (batch_size*num_batches)\n",
    "                    batch_data = np.zeros((batch_size,x,y,z,3)) # x is the number of images you use for each video, (y,z) is the final size of the input images and 3 is the number of channels RGB\n",
    "                    batch_labels = np.zeros((batch_size,5)) # batch_labels is the one hot representation of the output\n",
    "                    for folder in range(batch_size): # iterate over the batch_size\n",
    "                        imgs = os.listdir(source_path+'/'+ t[folder + (batch*batch_size)].split(';')[0]) # read all the images in the folder\n",
    "                        for idx,item in enumerate(img_idx): #  Iterate iver the frames/images of a folder to read them in\n",
    "                            image = imread(source_path+'/'+ t[folder + (batch*batch_size)].strip().split(';')[0]+'/'+imgs[item]).astype(np.float32)\n",
    "\n",
    "                            #crop the images and resize them. Note that the images are of 2 different shape \n",
    "                            #and the conv3D will throw error if the inputs in a batch have different shapes\n",
    "                            temp = resize(image,(120,120))\n",
    "                            temp = temp/127.5-1 #Normalize data\n",
    "\n",
    "                            batch_data[folder,idx,:,:,0] = (temp[:,:,0])\n",
    "                            batch_data[folder,idx,:,:,1] = (temp[:,:,1])\n",
    "                            batch_data[folder,idx,:,:,2] = (temp[:,:,2])\n",
    "\n",
    "                        batch_labels[folder, int(t[folder + (batch*batch_size)].strip().split(';')[2])] = 1\n",
    "                    yield batch_data, batch_labels"
   ]
  },
  {
   "cell_type": "markdown",
   "metadata": {},
   "source": [
    "Note here that a video is represented above in the generator as (number of images, height, width, number of channels). Take this into consideration while creating the model architecture.\n",
    "\n",
    "* Resize the image in such that all image is scaled (120*120)."
   ]
  },
  {
   "cell_type": "code",
   "execution_count": 9,
   "metadata": {},
   "outputs": [
    {
     "name": "stdout",
     "output_type": "stream",
     "text": [
      "# training sequences = 663\n",
      "# validation sequences = 100\n",
      "# epochs = 50\n"
     ]
    }
   ],
   "source": [
    "curr_dt_time = datetime.datetime.now()\n",
    "train_path = '/notebooks/storage/Final_data/Collated_training/train'\n",
    "val_path = '/notebooks/storage/Final_data/Collated_training/val'\n",
    "num_train_sequences = len(train_doc)\n",
    "print('# training sequences =', num_train_sequences)\n",
    "num_val_sequences = len(val_doc)\n",
    "print('# validation sequences =', num_val_sequences)\n",
    "num_epochs = 50 # choose the number of epochs\n",
    "print ('# epochs =', num_epochs)"
   ]
  },
  {
   "cell_type": "markdown",
   "metadata": {},
   "source": [
    "## Model\n",
    "Here you make the model using different functionalities that Keras provides. Remember to use `Conv3D` and `MaxPooling3D` and not `Conv2D` and `Maxpooling2D` for a 3D convolution model. You would want to use `TimeDistributed` while building a Conv2D + RNN model. Also remember that the last layer is the softmax. Design the network in such a way that the model is able to give good accuracy on the least number of parameters so that it can fit in the memory of the webcam."
   ]
  },
  {
   "cell_type": "code",
   "execution_count": 10,
   "metadata": {},
   "outputs": [
    {
     "name": "stdout",
     "output_type": "stream",
     "text": [
      "WARNING:tensorflow:From C:\\Users\\abhis\\Anaconda3\\envs\\ankit\\lib\\site-packages\\tensorflow_core\\python\\ops\\resource_variable_ops.py:1630: calling BaseResourceVariable.__init__ (from tensorflow.python.ops.resource_variable_ops) with constraint is deprecated and will be removed in a future version.\n",
      "Instructions for updating:\n",
      "If using Keras pass *_constraint arguments to layers.\n"
     ]
    }
   ],
   "source": [
    "from keras.models import Sequential, Model\n",
    "from keras.layers import Dense, GRU, Flatten, TimeDistributed, Flatten, BatchNormalization, Activation\n",
    "from keras.layers.convolutional import Conv3D, MaxPooling3D\n",
    "from keras.callbacks import ModelCheckpoint, ReduceLROnPlateau\n",
    "from keras import optimizers\n",
    "\n",
    "from keras.layers import Dropout\n",
    "\n",
    "#write your model here\n",
    "\n",
    "model = Sequential()\n",
    "\n",
    "model.add(Conv3D(8, #number of filters \n",
    "                 kernel_size=(3,3,3), \n",
    "                 input_shape=(30, 120, 120, 3),\n",
    "                 padding='same'))\n",
    "model.add(BatchNormalization())\n",
    "model.add(Activation('relu'))\n",
    "\n",
    "model.add(MaxPooling3D(pool_size=(2,2,2)))\n",
    "\n",
    "model.add(Conv3D(16, #Number of filters, \n",
    "                 kernel_size=(3,3,3), \n",
    "                 padding='same'))\n",
    "model.add(BatchNormalization())\n",
    "model.add(Activation('relu'))\n",
    "\n",
    "model.add(MaxPooling3D(pool_size=(2,2,2)))\n",
    "\n",
    "model.add(Conv3D(32, #Number of filters \n",
    "                 kernel_size=(3,3,3), \n",
    "                 padding='same'))\n",
    "model.add(BatchNormalization())\n",
    "model.add(Activation('relu'))\n",
    "\n",
    "model.add(MaxPooling3D(pool_size=(2,2,2)))\n",
    "\n",
    "model.add(Conv3D(64, #Number pf filters \n",
    "                 kernel_size=(3,3,3), \n",
    "                 padding='same'))\n",
    "model.add(BatchNormalization())\n",
    "model.add(Activation('relu'))\n",
    "\n",
    "model.add(MaxPooling3D(pool_size=(2,2,2)))\n",
    "\n",
    "#Flatten Layers\n",
    "model.add(Flatten())\n",
    "\n",
    "model.add(Dense(1000, activation='relu'))\n",
    "model.add(Dropout(0.5))\n",
    "\n",
    "model.add(Dense(500, activation='relu'))\n",
    "model.add(Dropout(0.5))\n",
    "\n",
    "#softmax layer\n",
    "model.add(Dense(5, activation='softmax'))"
   ]
  },
  {
   "cell_type": "markdown",
   "metadata": {},
   "source": [
    "* We increase 1000 neurons in fully connected layers(dense layer) with relu activation and also increase 50% dropout means to reduce overfitting. Out of 1000 layer 500 layer is droped in such a way that mostly contain local minima."
   ]
  },
  {
   "cell_type": "markdown",
   "metadata": {},
   "source": [
    "Now that you have written the model, the next step is to `compile` the model. When you print the `summary` of the model, you'll see the total number of parameters you have to train."
   ]
  },
  {
   "cell_type": "code",
   "execution_count": 11,
   "metadata": {
    "scrolled": true
   },
   "outputs": [
    {
     "name": "stdout",
     "output_type": "stream",
     "text": [
      "Model: \"sequential_1\"\n",
      "_________________________________________________________________\n",
      "Layer (type)                 Output Shape              Param #   \n",
      "=================================================================\n",
      "conv3d_1 (Conv3D)            (None, 30, 120, 120, 8)   656       \n",
      "_________________________________________________________________\n",
      "batch_normalization_1 (Batch (None, 30, 120, 120, 8)   32        \n",
      "_________________________________________________________________\n",
      "activation_1 (Activation)    (None, 30, 120, 120, 8)   0         \n",
      "_________________________________________________________________\n",
      "max_pooling3d_1 (MaxPooling3 (None, 15, 60, 60, 8)     0         \n",
      "_________________________________________________________________\n",
      "conv3d_2 (Conv3D)            (None, 15, 60, 60, 16)    3472      \n",
      "_________________________________________________________________\n",
      "batch_normalization_2 (Batch (None, 15, 60, 60, 16)    64        \n",
      "_________________________________________________________________\n",
      "activation_2 (Activation)    (None, 15, 60, 60, 16)    0         \n",
      "_________________________________________________________________\n",
      "max_pooling3d_2 (MaxPooling3 (None, 7, 30, 30, 16)     0         \n",
      "_________________________________________________________________\n",
      "conv3d_3 (Conv3D)            (None, 7, 30, 30, 32)     13856     \n",
      "_________________________________________________________________\n",
      "batch_normalization_3 (Batch (None, 7, 30, 30, 32)     128       \n",
      "_________________________________________________________________\n",
      "activation_3 (Activation)    (None, 7, 30, 30, 32)     0         \n",
      "_________________________________________________________________\n",
      "max_pooling3d_3 (MaxPooling3 (None, 3, 15, 15, 32)     0         \n",
      "_________________________________________________________________\n",
      "conv3d_4 (Conv3D)            (None, 3, 15, 15, 64)     55360     \n",
      "_________________________________________________________________\n",
      "batch_normalization_4 (Batch (None, 3, 15, 15, 64)     256       \n",
      "_________________________________________________________________\n",
      "activation_4 (Activation)    (None, 3, 15, 15, 64)     0         \n",
      "_________________________________________________________________\n",
      "max_pooling3d_4 (MaxPooling3 (None, 1, 7, 7, 64)       0         \n",
      "_________________________________________________________________\n",
      "flatten_1 (Flatten)          (None, 3136)              0         \n",
      "_________________________________________________________________\n",
      "dense_1 (Dense)              (None, 1000)              3137000   \n",
      "_________________________________________________________________\n",
      "dropout_1 (Dropout)          (None, 1000)              0         \n",
      "_________________________________________________________________\n",
      "dense_2 (Dense)              (None, 500)               500500    \n",
      "_________________________________________________________________\n",
      "dropout_2 (Dropout)          (None, 500)               0         \n",
      "_________________________________________________________________\n",
      "dense_3 (Dense)              (None, 5)                 2505      \n",
      "=================================================================\n",
      "Total params: 3,713,829\n",
      "Trainable params: 3,713,589\n",
      "Non-trainable params: 240\n",
      "_________________________________________________________________\n",
      "None\n"
     ]
    }
   ],
   "source": [
    "optimiser = optimizers.Adam(lr=0.001) #write your optimizer\n",
    "model.compile(optimizer=optimiser, loss='categorical_crossentropy', metrics=['categorical_accuracy'])\n",
    "print (model.summary())"
   ]
  },
  {
   "cell_type": "markdown",
   "metadata": {},
   "source": [
    "* Begin Conv3D with minimum number of filters as 8. \n",
    "* After that we done batch normalization because it will standardize the learning process and dramatically reducing the number of training epochs required to train deep networks. \n",
    "* And thought of using activation relu because to overcome vanishing gradient & to give output into 0 to +ve infinite number.\n",
    "* Then max_pooling to get maximum important feature & reduce the size of image\n",
    "\n",
    "* Use metric as categorical_accuracy in which it finds the probability of a feature belonging for the particular category find the probability which has highest probability & loss as Cross entropy which is a loss function that is used to quantify the difference between two probability distributions.\n",
    "* We used Adam optimization which is a stochastic gradient descent method that is based on adaptive estimation of first-order and second-order moments. So that it provides an optimization algorithm that can handle sparse gradients on noisy problems\n"
   ]
  },
  {
   "cell_type": "markdown",
   "metadata": {},
   "source": [
    "Let us create the `train_generator` and the `val_generator` which will be used in `.fit_generator`."
   ]
  },
  {
   "cell_type": "code",
   "execution_count": 12,
   "metadata": {},
   "outputs": [],
   "source": [
    "train_generator = generator(train_path, train_doc, batch_size)\n",
    "val_generator = generator(val_path, val_doc, batch_size)"
   ]
  },
  {
   "cell_type": "code",
   "execution_count": 13,
   "metadata": {},
   "outputs": [],
   "source": [
    "model_name = 'model_init' + '_' + str(curr_dt_time).replace(' ','').replace(':','_') + '/'\n",
    "    \n",
    "if not os.path.exists(model_name):\n",
    "    os.mkdir(model_name)\n",
    "        \n",
    "filepath = model_name + 'model-{epoch:05d}-{loss:.5f}-{categorical_accuracy:.5f}-{val_loss:.5f}-{val_categorical_accuracy:.5f}.h5py'\n",
    "\n",
    "checkpoint = ModelCheckpoint(filepath, monitor='val_loss', verbose=1, save_best_only=False, save_weights_only=False, mode='auto', period=1)\n",
    "\n",
    "LR = ReduceLROnPlateau(monitor='val_loss', factor=0.5, patience=2, cooldown=1, verbose=1) # write the REducelronplateau code here\n",
    "callbacks_list = [checkpoint, LR]"
   ]
  },
  {
   "cell_type": "markdown",
   "metadata": {},
   "source": [
    "The `steps_per_epoch` and `validation_steps` are used by `fit_generator` to decide the number of next() calls it need to make."
   ]
  },
  {
   "cell_type": "code",
   "execution_count": 14,
   "metadata": {},
   "outputs": [],
   "source": [
    "if (num_train_sequences%batch_size) == 0:\n",
    "    steps_per_epoch = int(num_train_sequences/batch_size)\n",
    "else:\n",
    "    steps_per_epoch = (num_train_sequences//batch_size) + 1\n",
    "\n",
    "if (num_val_sequences%batch_size) == 0:\n",
    "    validation_steps = int(num_val_sequences/batch_size)\n",
    "else:\n",
    "    validation_steps = (num_val_sequences//batch_size) + 1"
   ]
  },
  {
   "cell_type": "markdown",
   "metadata": {},
   "source": [
    "Let us now fit the model. This will start training the model and with the help of the checkpoints, you'll be able to save the model at the end of each epoch."
   ]
  },
  {
   "cell_type": "code",
   "execution_count": 16,
   "metadata": {
    "scrolled": true
   },
   "outputs": [
    {
     "name": "stdout",
     "output_type": "stream",
     "text": [
      "WARNING:tensorflow:From C:\\Users\\abhis\\Anaconda3\\envs\\ankit\\lib\\site-packages\\keras\\backend\\tensorflow_backend.py:422: The name tf.global_variables is deprecated. Please use tf.compat.v1.global_variables instead.\n",
      "\n",
      "Source path = Source path =  C:\\Users\\abhis\\Ankit\\Gesture Recognition Project\\Project\\val ; batch size = 50\n",
      " C:\\Users\\abhis\\Ankit\\Gesture Recognition Project\\Project\\train ; batch size = 50\n",
      "Epoch 1/50\n",
      " 4/14 [=======>......................] - ETA: 5:55 - loss: 7.6768 - categorical_accuracy: 0.2300Batch:  14 Index: 50\n",
      "14/14 [==============================] - 427s 30s/step - loss: 4.4999 - categorical_accuracy: 0.2172 - val_loss: 1.4863 - val_categorical_accuracy: 0.2300\n",
      "\n",
      "Epoch 00001: saving model to model_init_2021-02-0610_10_55.511498/model-00001-4.66714-0.21719-1.48634-0.23000.h5py\n",
      "Epoch 2/50\n",
      "14/14 [==============================] - 122s 9s/step - loss: 1.7478 - categorical_accuracy: 0.2857 - val_loss: 1.5803 - val_categorical_accuracy: 0.2300\n",
      "\n",
      "Epoch 00002: saving model to model_init_2021-02-0610_10_55.511498/model-00002-1.74776-0.28571-1.58029-0.23000.h5py\n",
      "Epoch 3/50\n",
      "14/14 [==============================] - 121s 9s/step - loss: 1.3686 - categorical_accuracy: 0.4286 - val_loss: 1.3664 - val_categorical_accuracy: 0.3200\n",
      "\n",
      "Epoch 00003: saving model to model_init_2021-02-0610_10_55.511498/model-00003-1.36861-0.42857-1.36639-0.32000.h5py\n",
      "Epoch 4/50\n",
      "14/14 [==============================] - 121s 9s/step - loss: 1.2302 - categorical_accuracy: 0.4615 - val_loss: 1.3478 - val_categorical_accuracy: 0.3900\n",
      "\n",
      "Epoch 00004: saving model to model_init_2021-02-0610_10_55.511498/model-00004-1.23022-0.46154-1.34783-0.39000.h5py\n",
      "Epoch 5/50\n",
      "14/14 [==============================] - 120s 9s/step - loss: 1.1066 - categorical_accuracy: 0.5934 - val_loss: 1.9673 - val_categorical_accuracy: 0.2000\n",
      "\n",
      "Epoch 00005: saving model to model_init_2021-02-0610_10_55.511498/model-00005-1.10658-0.59341-1.96731-0.20000.h5py\n",
      "Epoch 6/50\n",
      "14/14 [==============================] - 120s 9s/step - loss: 1.1152 - categorical_accuracy: 0.5769 - val_loss: 2.1963 - val_categorical_accuracy: 0.1600\n",
      "\n",
      "Epoch 00006: saving model to model_init_2021-02-0610_10_55.511498/model-00006-1.11519-0.57692-2.19632-0.16000.h5py\n",
      "\n",
      "Epoch 00006: ReduceLROnPlateau reducing learning rate to 0.0005000000237487257.\n",
      "Epoch 7/50\n",
      "14/14 [==============================] - 120s 9s/step - loss: 1.0684 - categorical_accuracy: 0.5440 - val_loss: 2.0020 - val_categorical_accuracy: 0.1600\n",
      "\n",
      "Epoch 00007: saving model to model_init_2021-02-0610_10_55.511498/model-00007-1.06842-0.54396-2.00202-0.16000.h5py\n",
      "Epoch 8/50\n",
      "14/14 [==============================] - 120s 9s/step - loss: 0.9347 - categorical_accuracy: 0.6264 - val_loss: 1.9794 - val_categorical_accuracy: 0.2600\n",
      "\n",
      "Epoch 00008: saving model to model_init_2021-02-0610_10_55.511498/model-00008-0.93472-0.62637-1.97937-0.26000.h5py\n",
      "\n",
      "Epoch 00008: ReduceLROnPlateau reducing learning rate to 0.0002500000118743628.\n",
      "Epoch 9/50\n",
      "14/14 [==============================] - 119s 9s/step - loss: 0.8791 - categorical_accuracy: 0.6593 - val_loss: 2.2201 - val_categorical_accuracy: 0.1900\n",
      "\n",
      "Epoch 00009: saving model to model_init_2021-02-0610_10_55.511498/model-00009-0.87909-0.65934-2.22012-0.19000.h5py\n",
      "Epoch 10/50\n",
      "14/14 [==============================] - 119s 9s/step - loss: 0.7357 - categorical_accuracy: 0.7253 - val_loss: 2.2359 - val_categorical_accuracy: 0.1700\n",
      "\n",
      "Epoch 00010: saving model to model_init_2021-02-0610_10_55.511498/model-00010-0.73575-0.72527-2.23590-0.17000.h5py\n",
      "\n",
      "Epoch 00010: ReduceLROnPlateau reducing learning rate to 0.0001250000059371814.\n",
      "Epoch 11/50\n",
      "14/14 [==============================] - 119s 9s/step - loss: 0.7179 - categorical_accuracy: 0.6923 - val_loss: 1.9628 - val_categorical_accuracy: 0.1900\n",
      "\n",
      "Epoch 00011: saving model to model_init_2021-02-0610_10_55.511498/model-00011-0.71787-0.69231-1.96281-0.19000.h5py\n",
      "Epoch 12/50\n",
      "14/14 [==============================] - 120s 9s/step - loss: 0.6841 - categorical_accuracy: 0.7527 - val_loss: 2.5682 - val_categorical_accuracy: 0.1900\n",
      "\n",
      "Epoch 00012: saving model to model_init_2021-02-0610_10_55.511498/model-00012-0.68414-0.75275-2.56819-0.19000.h5py\n",
      "\n",
      "Epoch 00012: ReduceLROnPlateau reducing learning rate to 6.25000029685907e-05.\n",
      "Epoch 13/50\n",
      "14/14 [==============================] - 119s 8s/step - loss: 0.6518 - categorical_accuracy: 0.7582 - val_loss: 2.3112 - val_categorical_accuracy: 0.1900\n",
      "\n",
      "Epoch 00013: saving model to model_init_2021-02-0610_10_55.511498/model-00013-0.65184-0.75824-2.31122-0.19000.h5py\n",
      "Epoch 14/50\n",
      "14/14 [==============================] - 119s 9s/step - loss: 0.6278 - categorical_accuracy: 0.7527 - val_loss: 2.1352 - val_categorical_accuracy: 0.2000\n",
      "\n",
      "Epoch 00014: saving model to model_init_2021-02-0610_10_55.511498/model-00014-0.62777-0.75275-2.13524-0.20000.h5py\n",
      "\n",
      "Epoch 00014: ReduceLROnPlateau reducing learning rate to 3.125000148429535e-05.\n",
      "Epoch 15/50\n",
      "14/14 [==============================] - 119s 8s/step - loss: 0.6104 - categorical_accuracy: 0.7857 - val_loss: 1.8399 - val_categorical_accuracy: 0.2700\n",
      "\n",
      "Epoch 00015: saving model to model_init_2021-02-0610_10_55.511498/model-00015-0.61043-0.78571-1.83992-0.27000.h5py\n",
      "Epoch 16/50\n",
      "14/14 [==============================] - 119s 8s/step - loss: 0.7865 - categorical_accuracy: 0.6484 - val_loss: 1.7933 - val_categorical_accuracy: 0.2900\n",
      "\n",
      "Epoch 00016: saving model to model_init_2021-02-0610_10_55.511498/model-00016-0.78650-0.64835-1.79330-0.29000.h5py\n",
      "\n",
      "Epoch 00016: ReduceLROnPlateau reducing learning rate to 1.5625000742147677e-05.\n",
      "Epoch 17/50\n",
      "14/14 [==============================] - 118s 8s/step - loss: 0.6237 - categorical_accuracy: 0.7527 - val_loss: 1.4425 - val_categorical_accuracy: 0.3300\n",
      "\n",
      "Epoch 00017: saving model to model_init_2021-02-0610_10_55.511498/model-00017-0.62370-0.75275-1.44251-0.33000.h5py\n",
      "Epoch 18/50\n",
      "14/14 [==============================] - 119s 8s/step - loss: 0.5822 - categorical_accuracy: 0.7802 - val_loss: 1.4953 - val_categorical_accuracy: 0.3700\n",
      "\n",
      "Epoch 00018: saving model to model_init_2021-02-0610_10_55.511498/model-00018-0.58217-0.78022-1.49526-0.37000.h5py\n",
      "\n",
      "Epoch 00018: ReduceLROnPlateau reducing learning rate to 7.812500371073838e-06.\n",
      "Epoch 19/50\n",
      "14/14 [==============================] - 120s 9s/step - loss: 0.5792 - categorical_accuracy: 0.7582 - val_loss: 1.3633 - val_categorical_accuracy: 0.4000\n",
      "\n",
      "Epoch 00019: saving model to model_init_2021-02-0610_10_55.511498/model-00019-0.57917-0.75824-1.36333-0.40000.h5py\n",
      "Epoch 20/50\n",
      "14/14 [==============================] - 119s 8s/step - loss: 0.6116 - categorical_accuracy: 0.7802 - val_loss: 1.3010 - val_categorical_accuracy: 0.4600\n",
      "\n",
      "Epoch 00020: saving model to model_init_2021-02-0610_10_55.511498/model-00020-0.61164-0.78022-1.30100-0.46000.h5py\n",
      "Epoch 21/50\n",
      "14/14 [==============================] - 120s 9s/step - loss: 0.5877 - categorical_accuracy: 0.7692 - val_loss: 1.0109 - val_categorical_accuracy: 0.5000\n",
      "\n",
      "Epoch 00021: saving model to model_init_2021-02-0610_10_55.511498/model-00021-0.58767-0.76923-1.01090-0.50000.h5py\n",
      "Epoch 22/50\n",
      "14/14 [==============================] - 119s 9s/step - loss: 0.5680 - categorical_accuracy: 0.7967 - val_loss: 1.0950 - val_categorical_accuracy: 0.5400\n",
      "\n",
      "Epoch 00022: saving model to model_init_2021-02-0610_10_55.511498/model-00022-0.56796-0.79670-1.09501-0.54000.h5py\n",
      "Epoch 23/50\n",
      "14/14 [==============================] - 119s 8s/step - loss: 0.6226 - categorical_accuracy: 0.7747 - val_loss: 1.1013 - val_categorical_accuracy: 0.5800\n",
      "\n",
      "Epoch 00023: saving model to model_init_2021-02-0610_10_55.511498/model-00023-0.62255-0.77473-1.10131-0.58000.h5py\n",
      "\n",
      "Epoch 00023: ReduceLROnPlateau reducing learning rate to 3.906250185536919e-06.\n",
      "Epoch 24/50\n",
      "14/14 [==============================] - 119s 9s/step - loss: 0.7011 - categorical_accuracy: 0.7033 - val_loss: 0.8470 - val_categorical_accuracy: 0.6700\n",
      "\n",
      "Epoch 00024: saving model to model_init_2021-02-0610_10_55.511498/model-00024-0.70111-0.70330-0.84702-0.67000.h5py\n",
      "Epoch 25/50\n",
      "14/14 [==============================] - 119s 8s/step - loss: 0.5567 - categorical_accuracy: 0.8132 - val_loss: 0.8266 - val_categorical_accuracy: 0.6900\n",
      "\n",
      "Epoch 00025: saving model to model_init_2021-02-0610_10_55.511498/model-00025-0.55670-0.81319-0.82663-0.69000.h5py\n",
      "Epoch 26/50\n"
     ]
    },
    {
     "name": "stdout",
     "output_type": "stream",
     "text": [
      "14/14 [==============================] - 119s 9s/step - loss: 0.7212 - categorical_accuracy: 0.7418 - val_loss: 0.8131 - val_categorical_accuracy: 0.7100\n",
      "\n",
      "Epoch 00026: saving model to model_init_2021-02-0610_10_55.511498/model-00026-0.72120-0.74176-0.81314-0.71000.h5py\n",
      "Epoch 27/50\n",
      "14/14 [==============================] - 120s 9s/step - loss: 0.5963 - categorical_accuracy: 0.7692 - val_loss: 0.7548 - val_categorical_accuracy: 0.7200\n",
      "\n",
      "Epoch 00027: saving model to model_init_2021-02-0610_10_55.511498/model-00027-0.59627-0.76923-0.75476-0.72000.h5py\n",
      "Epoch 28/50\n",
      "14/14 [==============================] - 119s 9s/step - loss: 0.6530 - categorical_accuracy: 0.7473 - val_loss: 0.7691 - val_categorical_accuracy: 0.7200\n",
      "\n",
      "Epoch 00028: saving model to model_init_2021-02-0610_10_55.511498/model-00028-0.65301-0.74725-0.76910-0.72000.h5py\n",
      "Epoch 29/50\n",
      "14/14 [==============================] - 119s 9s/step - loss: 0.5657 - categorical_accuracy: 0.7967 - val_loss: 0.6170 - val_categorical_accuracy: 0.7300\n",
      "\n",
      "Epoch 00029: saving model to model_init_2021-02-0610_10_55.511498/model-00029-0.56569-0.79670-0.61703-0.73000.h5py\n",
      "Epoch 30/50\n",
      "14/14 [==============================] - 119s 9s/step - loss: 0.5267 - categorical_accuracy: 0.7692 - val_loss: 0.6627 - val_categorical_accuracy: 0.7600\n",
      "\n",
      "Epoch 00030: saving model to model_init_2021-02-0610_10_55.511498/model-00030-0.52668-0.76923-0.66268-0.76000.h5py\n",
      "Epoch 31/50\n",
      "14/14 [==============================] - 120s 9s/step - loss: 0.6477 - categorical_accuracy: 0.7253 - val_loss: 0.6632 - val_categorical_accuracy: 0.7700\n",
      "\n",
      "Epoch 00031: saving model to model_init_2021-02-0610_10_55.511498/model-00031-0.64767-0.72527-0.66322-0.77000.h5py\n",
      "\n",
      "Epoch 00031: ReduceLROnPlateau reducing learning rate to 1.9531250927684596e-06.\n",
      "Epoch 32/50\n",
      "14/14 [==============================] - 120s 9s/step - loss: 0.5794 - categorical_accuracy: 0.8022 - val_loss: 0.6357 - val_categorical_accuracy: 0.7900\n",
      "\n",
      "Epoch 00032: saving model to model_init_2021-02-0610_10_55.511498/model-00032-0.57935-0.80220-0.63566-0.79000.h5py\n",
      "Epoch 33/50\n",
      "14/14 [==============================] - 120s 9s/step - loss: 0.5844 - categorical_accuracy: 0.8022 - val_loss: 0.6856 - val_categorical_accuracy: 0.7900\n",
      "\n",
      "Epoch 00033: saving model to model_init_2021-02-0610_10_55.511498/model-00033-0.58440-0.80220-0.68559-0.79000.h5py\n",
      "\n",
      "Epoch 00033: ReduceLROnPlateau reducing learning rate to 9.765625463842298e-07.\n",
      "Epoch 34/50\n",
      "14/14 [==============================] - 120s 9s/step - loss: 0.6629 - categorical_accuracy: 0.7637 - val_loss: 0.4793 - val_categorical_accuracy: 0.7900\n",
      "\n",
      "Epoch 00034: saving model to model_init_2021-02-0610_10_55.511498/model-00034-0.66292-0.76374-0.47932-0.79000.h5py\n",
      "Epoch 35/50\n",
      "14/14 [==============================] - 128s 9s/step - loss: 0.6012 - categorical_accuracy: 0.7747 - val_loss: 0.5315 - val_categorical_accuracy: 0.8000\n",
      "\n",
      "Epoch 00035: saving model to model_init_2021-02-0610_10_55.511498/model-00035-0.60124-0.77473-0.53149-0.80000.h5py\n",
      "Epoch 36/50\n",
      "14/14 [==============================] - 120s 9s/step - loss: 0.6161 - categorical_accuracy: 0.7308 - val_loss: 0.4720 - val_categorical_accuracy: 0.8000\n",
      "\n",
      "Epoch 00036: saving model to model_init_2021-02-0610_10_55.511498/model-00036-0.61611-0.73077-0.47203-0.80000.h5py\n",
      "Epoch 37/50\n",
      "14/14 [==============================] - 119s 9s/step - loss: 0.6769 - categorical_accuracy: 0.7363 - val_loss: 0.4853 - val_categorical_accuracy: 0.8100\n",
      "\n",
      "Epoch 00037: saving model to model_init_2021-02-0610_10_55.511498/model-00037-0.67687-0.73626-0.48528-0.81000.h5py\n",
      "Epoch 38/50\n",
      "14/14 [==============================] - 120s 9s/step - loss: 0.5450 - categorical_accuracy: 0.7967 - val_loss: 0.6172 - val_categorical_accuracy: 0.8100\n",
      "\n",
      "Epoch 00038: saving model to model_init_2021-02-0610_10_55.511498/model-00038-0.54500-0.79670-0.61720-0.81000.h5py\n",
      "\n",
      "Epoch 00038: ReduceLROnPlateau reducing learning rate to 4.882812731921149e-07.\n",
      "Epoch 39/50\n",
      "14/14 [==============================] - 119s 9s/step - loss: 0.6057 - categorical_accuracy: 0.7747 - val_loss: 0.5277 - val_categorical_accuracy: 0.8100\n",
      "\n",
      "Epoch 00039: saving model to model_init_2021-02-0610_10_55.511498/model-00039-0.60572-0.77473-0.52771-0.81000.h5py\n",
      "Epoch 40/50\n",
      "14/14 [==============================] - 119s 9s/step - loss: 0.6053 - categorical_accuracy: 0.7527 - val_loss: 0.4768 - val_categorical_accuracy: 0.8100\n",
      "\n",
      "Epoch 00040: saving model to model_init_2021-02-0610_10_55.511498/model-00040-0.60535-0.75275-0.47677-0.81000.h5py\n",
      "\n",
      "Epoch 00040: ReduceLROnPlateau reducing learning rate to 2.4414063659605745e-07.\n",
      "Epoch 41/50\n",
      "14/14 [==============================] - 120s 9s/step - loss: 0.6299 - categorical_accuracy: 0.7253 - val_loss: 0.5584 - val_categorical_accuracy: 0.8100\n",
      "\n",
      "Epoch 00041: saving model to model_init_2021-02-0610_10_55.511498/model-00041-0.62989-0.72527-0.55840-0.81000.h5py\n",
      "Epoch 42/50\n",
      "14/14 [==============================] - 120s 9s/step - loss: 0.6274 - categorical_accuracy: 0.7692 - val_loss: 0.5938 - val_categorical_accuracy: 0.8100\n",
      "\n",
      "Epoch 00042: saving model to model_init_2021-02-0610_10_55.511498/model-00042-0.62744-0.76923-0.59378-0.81000.h5py\n",
      "\n",
      "Epoch 00042: ReduceLROnPlateau reducing learning rate to 1.2207031829802872e-07.\n",
      "Epoch 43/50\n",
      "14/14 [==============================] - 120s 9s/step - loss: 0.5366 - categorical_accuracy: 0.7967 - val_loss: 0.4754 - val_categorical_accuracy: 0.8100\n",
      "\n",
      "Epoch 00043: saving model to model_init_2021-02-0610_10_55.511498/model-00043-0.53660-0.79670-0.47538-0.81000.h5py\n",
      "Epoch 44/50\n",
      "14/14 [==============================] - 120s 9s/step - loss: 0.5886 - categorical_accuracy: 0.7857 - val_loss: 0.5719 - val_categorical_accuracy: 0.8100\n",
      "\n",
      "Epoch 00044: saving model to model_init_2021-02-0610_10_55.511498/model-00044-0.58860-0.78571-0.57193-0.81000.h5py\n",
      "\n",
      "Epoch 00044: ReduceLROnPlateau reducing learning rate to 6.103515914901436e-08.\n",
      "Epoch 45/50\n",
      "14/14 [==============================] - 120s 9s/step - loss: 0.5621 - categorical_accuracy: 0.7692 - val_loss: 0.4860 - val_categorical_accuracy: 0.8100\n",
      "\n",
      "Epoch 00045: saving model to model_init_2021-02-0610_10_55.511498/model-00045-0.56213-0.76923-0.48595-0.81000.h5py\n",
      "Epoch 46/50\n",
      "14/14 [==============================] - 120s 9s/step - loss: 0.6499 - categorical_accuracy: 0.7582 - val_loss: 0.4616 - val_categorical_accuracy: 0.8100\n",
      "\n",
      "Epoch 00046: saving model to model_init_2021-02-0610_10_55.511498/model-00046-0.64991-0.75824-0.46158-0.81000.h5py\n",
      "Epoch 47/50\n",
      "14/14 [==============================] - 120s 9s/step - loss: 0.6435 - categorical_accuracy: 0.7473 - val_loss: 0.4406 - val_categorical_accuracy: 0.8100\n",
      "\n",
      "Epoch 00047: saving model to model_init_2021-02-0610_10_55.511498/model-00047-0.64350-0.74725-0.44059-0.81000.h5py\n",
      "Epoch 48/50\n",
      "14/14 [==============================] - 120s 9s/step - loss: 0.4994 - categorical_accuracy: 0.8516 - val_loss: 0.5067 - val_categorical_accuracy: 0.8100\n",
      "\n",
      "Epoch 00048: saving model to model_init_2021-02-0610_10_55.511498/model-00048-0.49941-0.85165-0.50668-0.81000.h5py\n",
      "Epoch 49/50\n",
      "14/14 [==============================] - 120s 9s/step - loss: 0.5760 - categorical_accuracy: 0.8132 - val_loss: 0.4922 - val_categorical_accuracy: 0.8100\n",
      "\n",
      "Epoch 00049: saving model to model_init_2021-02-0610_10_55.511498/model-00049-0.57605-0.81319-0.49220-0.81000.h5py\n",
      "\n",
      "Epoch 00049: ReduceLROnPlateau reducing learning rate to 3.051757957450718e-08.\n",
      "Epoch 50/50\n",
      "14/14 [==============================] - 119s 9s/step - loss: 0.5509 - categorical_accuracy: 0.8077 - val_loss: 0.5367 - val_categorical_accuracy: 0.8100\n",
      "\n",
      "Epoch 00050: saving model to model_init_2021-02-0610_10_55.511498/model-00050-0.55088-0.80769-0.53670-0.81000.h5py\n"
     ]
    }
   ],
   "source": [
    "history = model.fit_generator(train_generator, steps_per_epoch=steps_per_epoch, epochs=num_epochs, verbose=1, \n",
    "                    callbacks=callbacks_list, validation_data=val_generator, \n",
    "                    validation_steps=validation_steps, class_weight=None, workers=1, initial_epoch=0)"
   ]
  },
  {
   "cell_type": "markdown",
   "metadata": {},
   "source": [
    "* Accuracy acheived 81%"
   ]
  },
  {
   "cell_type": "code",
   "execution_count": 17,
   "metadata": {},
   "outputs": [],
   "source": [
    "def plot(history):\n",
    "    fig, axes = plt.subplots(nrows=1, ncols=2, figsize=(15,4))\n",
    "    axes[0].plot(history.history['loss'])   \n",
    "    axes[0].plot(history.history['val_loss'])\n",
    "    axes[0].legend(['loss','val_loss'])\n",
    "    plt.ylabel('Loss')\n",
    "    plt.xlabel('Epoch')\n",
    "    \n",
    "\n",
    "\n",
    "    axes[1].plot(history.history['categorical_accuracy'])   \n",
    "    axes[1].plot(history.history['val_categorical_accuracy'])\n",
    "    axes[1].legend(['categorical_accuracy','val_categorical_accuracy'])\n",
    "    plt.ylabel('Accuracy')\n",
    "    plt.xlabel('Epoch')\n",
    "    \n",
    "    plt.show()"
   ]
  },
  {
   "cell_type": "code",
   "execution_count": 18,
   "metadata": {},
   "outputs": [
    {
     "data": {
      "image/png": "[encoded data removed]",
      "text/plain": [
       "<Figure size 1080x288 with 2 Axes>"
      ]
     },
     "metadata": {
      "needs_background": "light"
     },
     "output_type": "display_data"
    }
   ],
   "source": [
    "plot(history)"
   ]
  },
  {
   "cell_type": "markdown",
   "metadata": {},
   "source": [
    "* Clearly graph shows no overfitting which avoid local minima and loss is reduced. Categorical accuracy and valdiation categorical accuracy is also increase and equal which say model is good  "
   ]
  },
  {
   "cell_type": "markdown",
   "metadata": {},
   "source": [
    "### Model 2: 2D Conv + RNN (Transfer Learning using MobileNet)"
   ]
  },
  {
   "cell_type": "code",
   "execution_count": 121,
   "metadata": {},
   "outputs": [],
   "source": [
    "batch_size = 10\n",
    "num_epochs = 25\n",
    "x = 30 # # x is the number of images\n",
    "y = 120 # width of the image\n",
    "z = 120 # height of the image\n",
    "classes = 5 #5 gestures \n",
    "channel = 3 #RGB"
   ]
  },
  {
   "cell_type": "code",
   "execution_count": 122,
   "metadata": {},
   "outputs": [
    {
     "name": "stderr",
     "output_type": "stream",
     "text": [
      "C:\\Users\\abhis\\Anaconda3\\envs\\ankit\\lib\\site-packages\\keras_applications\\mobilenet.py:207: UserWarning: `input_shape` is undefined or non-square, or `rows` is not in [128, 160, 192, 224]. Weights for input shape (224, 224) will be loaded as the default.\n",
      "  warnings.warn('`input_shape` is undefined or non-square, '\n"
     ]
    }
   ],
   "source": [
    "from keras.applications import mobilenet\n",
    "pretrained_mobilenet = mobilenet.MobileNet(weights='imagenet', include_top=False)     #In Deep Convolutional Neural Network imagenet was able to classify 1.3 million high-resolution images into 1000 different classes\n",
    "from keras.layers.convolutional import Conv2D, MaxPooling2D\n",
    "from keras.layers.recurrent import LSTM"
   ]
  },
  {
   "cell_type": "code",
   "execution_count": 168,
   "metadata": {},
   "outputs": [],
   "source": [
    "model = Sequential()\n",
    "model.add(TimeDistributed(pretrained_mobilenet,input_shape=(x,y,z,channel)))\n",
    "\n",
    "model.add(TimeDistributed(BatchNormalization()))\n",
    "model.add(TimeDistributed(MaxPooling2D((2, 2))))\n",
    "model.add(TimeDistributed(Flatten()))\n",
    "\n",
    "model.add( LSTM( 32))\n",
    "model.add(Dropout(0.25))\n",
    "\n",
    "model.add(Dense(32,activation='relu'))\n",
    "model.add(Dropout(0.25))\n",
    "\n",
    "model.add(Dense(5, activation='softmax'))"
   ]
  },
  {
   "cell_type": "markdown",
   "metadata": {},
   "source": [
    "* We have use MobileNet because to use depthwise separable convolutions to build lighter deep neural networks."
   ]
  },
  {
   "cell_type": "code",
   "execution_count": 170,
   "metadata": {},
   "outputs": [],
   "source": [
    "train_generator6 = generator(train_path, train_doc, batch_size)\n",
    "val_generator6 = generator(val_path, val_doc, batch_size)"
   ]
  },
  {
   "cell_type": "code",
   "execution_count": 171,
   "metadata": {},
   "outputs": [
    {
     "name": "stdout",
     "output_type": "stream",
     "text": [
      "Model: \"sequential_24\"\n",
      "_________________________________________________________________\n",
      "Layer (type)                 Output Shape              Param #   \n",
      "=================================================================\n",
      "time_distributed_73 (TimeDis (None, 30, 3, 3, 1024)    3228864   \n",
      "_________________________________________________________________\n",
      "time_distributed_74 (TimeDis (None, 30, 3, 3, 1024)    4096      \n",
      "_________________________________________________________________\n",
      "time_distributed_75 (TimeDis (None, 30, 1, 1, 1024)    0         \n",
      "_________________________________________________________________\n",
      "time_distributed_76 (TimeDis (None, 30, 1024)          0         \n",
      "_________________________________________________________________\n",
      "lstm_6 (LSTM)                (None, 32)                135296    \n",
      "_________________________________________________________________\n",
      "dropout_37 (Dropout)         (None, 32)                0         \n",
      "_________________________________________________________________\n",
      "dense_38 (Dense)             (None, 32)                1056      \n",
      "_________________________________________________________________\n",
      "dropout_38 (Dropout)         (None, 32)                0         \n",
      "_________________________________________________________________\n",
      "dense_39 (Dense)             (None, 5)                 165       \n",
      "=================================================================\n",
      "Total params: 3,369,477\n",
      "Trainable params: 3,345,541\n",
      "Non-trainable params: 23,936\n",
      "_________________________________________________________________\n",
      "None\n"
     ]
    }
   ],
   "source": [
    "optimiser = optimizers.Adam(lr=0.0001) #write your optimizer\n",
    "model.compile(optimizer=optimiser, loss='categorical_crossentropy', metrics=['categorical_accuracy'])\n",
    "\n",
    "print(model.summary())"
   ]
  },
  {
   "cell_type": "markdown",
   "metadata": {},
   "source": [
    "* time distribution with 4 layer and use LSTM to avoid exploding and vanishing gradient with 32 units and use 2 dense layer (fully connected layer) and 25% layer is drop out to avoid overfitting "
   ]
  },
  {
   "cell_type": "code",
   "execution_count": 172,
   "metadata": {},
   "outputs": [],
   "source": [
    "model_name = 'model_init' + '_' + str(curr_dt_time).replace(' ','').replace(':','_') + '/'\n",
    "    \n",
    "if not os.path.exists(model_name):\n",
    "    os.mkdir(model_name)\n",
    "        \n",
    "filepath = model_name + 'model-{epoch:05d}-{loss:.5f}-{categorical_accuracy:.5f}-{val_loss:.5f}-{val_categorical_accuracy:.5f}.h5py'\n",
    "\n",
    "checkpoint = ModelCheckpoint(filepath, monitor='val_loss', verbose=1, save_best_only=False, save_weights_only=False, mode='auto', period=1)\n",
    "\n",
    "LR = ReduceLROnPlateau(monitor='val_loss', factor=0.5, patience=2, cooldown=1, verbose=1)  # write the REducelronplateau code here\n",
    "callbacks_list = [checkpoint, LR]"
   ]
  },
  {
   "cell_type": "code",
   "execution_count": 173,
   "metadata": {},
   "outputs": [],
   "source": [
    "if (num_train_sequences%batch_size) == 0:\n",
    "    steps_per_epoch = int(num_train_sequences/batch_size)\n",
    "else:\n",
    "    steps_per_epoch = (num_train_sequences//batch_size) + 1\n",
    "\n",
    "if (num_val_sequences%batch_size) == 0:\n",
    "    validation_steps = int(num_val_sequences/batch_size)\n",
    "else:\n",
    "    validation_steps = (num_val_sequences//batch_size) + 1"
   ]
  },
  {
   "cell_type": "code",
   "execution_count": 174,
   "metadata": {},
   "outputs": [
    {
     "name": "stdout",
     "output_type": "stream",
     "text": [
      "Source path =  C:\\Users\\abhis\\Ankit\\Gesture Recognition Project\\Project\\train ; batch size = 10\n",
      "Source path =  C:\\Users\\abhis\\Ankit\\Gesture Recognition Project\\Project\\val ; batch size = 10\n",
      "Epoch 1/25\n",
      "55/67 [=======================>......] - ETA: 3:06 - loss: 1.6135 - categorical_accuracy: 0.2327Batch:  67 Index: 10\n",
      "67/67 [==============================] - 1063s 16s/step - loss: 1.6003 - categorical_accuracy: 0.2428 - val_loss: 1.4434 - val_categorical_accuracy: 0.2900\n",
      "\n",
      "Epoch 00001: saving model to model_init_2021-02-0611_55_59.820448/model-00001-1.60150-0.24284-1.44339-0.29000.h5py\n",
      "Epoch 2/25\n",
      "67/67 [==============================] - 353s 5s/step - loss: 1.4316 - categorical_accuracy: 0.3731 - val_loss: 1.4862 - val_categorical_accuracy: 0.4600\n",
      "\n",
      "Epoch 00002: saving model to model_init_2021-02-0611_55_59.820448/model-00002-1.43155-0.37313-1.48617-0.46000.h5py\n",
      "Epoch 3/25\n",
      "67/67 [==============================] - 362s 5s/step - loss: 1.3124 - categorical_accuracy: 0.4627 - val_loss: 1.3230 - val_categorical_accuracy: 0.6300\n",
      "\n",
      "Epoch 00003: saving model to model_init_2021-02-0611_55_59.820448/model-00003-1.31240-0.46269-1.32298-0.63000.h5py\n",
      "Epoch 4/25\n",
      "67/67 [==============================] - 360s 5s/step - loss: 1.2750 - categorical_accuracy: 0.5174 - val_loss: 1.2551 - val_categorical_accuracy: 0.5800\n",
      "\n",
      "Epoch 00004: saving model to model_init_2021-02-0611_55_59.820448/model-00004-1.27499-0.51741-1.25505-0.58000.h5py\n",
      "Epoch 5/25\n",
      "67/67 [==============================] - 358s 5s/step - loss: 1.1921 - categorical_accuracy: 0.5721 - val_loss: 1.1129 - val_categorical_accuracy: 0.6900\n",
      "\n",
      "Epoch 00005: saving model to model_init_2021-02-0611_55_59.820448/model-00005-1.19210-0.57214-1.11291-0.69000.h5py\n",
      "Epoch 6/25\n",
      "67/67 [==============================] - 358s 5s/step - loss: 1.1098 - categorical_accuracy: 0.5920 - val_loss: 0.7901 - val_categorical_accuracy: 0.7000\n",
      "\n",
      "Epoch 00006: saving model to model_init_2021-02-0611_55_59.820448/model-00006-1.10983-0.59204-0.79010-0.70000.h5py\n",
      "Epoch 7/25\n",
      "67/67 [==============================] - 410s 6s/step - loss: 1.0962 - categorical_accuracy: 0.6020 - val_loss: 0.7248 - val_categorical_accuracy: 0.7600\n",
      "\n",
      "Epoch 00007: saving model to model_init_2021-02-0611_55_59.820448/model-00007-1.09616-0.60199-0.72478-0.76000.h5py\n",
      "Epoch 8/25\n",
      "67/67 [==============================] - 420s 6s/step - loss: 0.9045 - categorical_accuracy: 0.7264 - val_loss: 0.7356 - val_categorical_accuracy: 0.8200\n",
      "\n",
      "Epoch 00008: saving model to model_init_2021-02-0611_55_59.820448/model-00008-0.90452-0.72637-0.73557-0.82000.h5py\n",
      "Epoch 9/25\n",
      "67/67 [==============================] - 423s 6s/step - loss: 0.8321 - categorical_accuracy: 0.7463 - val_loss: 0.8097 - val_categorical_accuracy: 0.8200\n",
      "\n",
      "Epoch 00009: saving model to model_init_2021-02-0611_55_59.820448/model-00009-0.83212-0.74627-0.80967-0.82000.h5py\n",
      "\n",
      "Epoch 00009: ReduceLROnPlateau reducing learning rate to 4.999999873689376e-05.\n",
      "Epoch 10/25\n",
      "67/67 [==============================] - 433s 6s/step - loss: 0.8317 - categorical_accuracy: 0.7313 - val_loss: 0.9429 - val_categorical_accuracy: 0.7800\n",
      "\n",
      "Epoch 00010: saving model to model_init_2021-02-0611_55_59.820448/model-00010-0.83170-0.73134-0.94286-0.78000.h5py\n",
      "Epoch 11/25\n",
      "67/67 [==============================] - 32107s 479s/step - loss: 0.7177 - categorical_accuracy: 0.7562 - val_loss: 0.8071 - val_categorical_accuracy: 0.8000\n",
      "\n",
      "Epoch 00011: saving model to model_init_2021-02-0611_55_59.820448/model-00011-0.71772-0.75622-0.80711-0.80000.h5py\n",
      "\n",
      "Epoch 00011: ReduceLROnPlateau reducing learning rate to 2.499999936844688e-05.\n",
      "Epoch 12/25\n",
      "67/67 [==============================] - 381s 6s/step - loss: 0.6232 - categorical_accuracy: 0.8458 - val_loss: 0.8250 - val_categorical_accuracy: 0.8000\n",
      "\n",
      "Epoch 00012: saving model to model_init_2021-02-0611_55_59.820448/model-00012-0.62320-0.84577-0.82497-0.80000.h5py\n",
      "Epoch 13/25\n",
      "67/67 [==============================] - 375s 6s/step - loss: 0.7008 - categorical_accuracy: 0.7861 - val_loss: 0.7006 - val_categorical_accuracy: 0.8200\n",
      "\n",
      "Epoch 00013: saving model to model_init_2021-02-0611_55_59.820448/model-00013-0.70078-0.78607-0.70064-0.82000.h5py\n",
      "Epoch 14/25\n",
      "67/67 [==============================] - 374s 6s/step - loss: 0.6744 - categorical_accuracy: 0.8209 - val_loss: 0.7589 - val_categorical_accuracy: 0.8200\n",
      "\n",
      "Epoch 00014: saving model to model_init_2021-02-0611_55_59.820448/model-00014-0.67443-0.82090-0.75887-0.82000.h5py\n",
      "Epoch 15/25\n",
      "67/67 [==============================] - 373s 6s/step - loss: 0.6501 - categorical_accuracy: 0.8060 - val_loss: 0.7995 - val_categorical_accuracy: 0.8200\n",
      "\n",
      "Epoch 00015: saving model to model_init_2021-02-0611_55_59.820448/model-00015-0.65010-0.80597-0.79947-0.82000.h5py\n",
      "\n",
      "Epoch 00015: ReduceLROnPlateau reducing learning rate to 1.249999968422344e-05.\n",
      "Epoch 16/25\n",
      "67/67 [==============================] - 370s 6s/step - loss: 0.6115 - categorical_accuracy: 0.8308 - val_loss: 0.7982 - val_categorical_accuracy: 0.8600\n",
      "\n",
      "Epoch 00016: saving model to model_init_2021-02-0611_55_59.820448/model-00016-0.61147-0.83085-0.79820-0.86000.h5py\n",
      "Epoch 17/25\n",
      "67/67 [==============================] - 371s 6s/step - loss: 0.6321 - categorical_accuracy: 0.8308 - val_loss: 0.6326 - val_categorical_accuracy: 0.8700\n",
      "\n",
      "Epoch 00017: saving model to model_init_2021-02-0611_55_59.820448/model-00017-0.63207-0.83085-0.63259-0.87000.h5py\n",
      "Epoch 18/25\n",
      "67/67 [==============================] - 372s 6s/step - loss: 0.6087 - categorical_accuracy: 0.8308 - val_loss: 0.6527 - val_categorical_accuracy: 0.8700\n",
      "\n",
      "Epoch 00018: saving model to model_init_2021-02-0611_55_59.820448/model-00018-0.60868-0.83085-0.65272-0.87000.h5py\n",
      "Epoch 19/25\n",
      "67/67 [==============================] - 373s 6s/step - loss: 0.5678 - categorical_accuracy: 0.8607 - val_loss: 0.7876 - val_categorical_accuracy: 0.8600\n",
      "\n",
      "Epoch 00019: saving model to model_init_2021-02-0611_55_59.820448/model-00019-0.56776-0.86070-0.78764-0.86000.h5py\n",
      "\n",
      "Epoch 00019: ReduceLROnPlateau reducing learning rate to 6.24999984211172e-06.\n",
      "Epoch 20/25\n",
      "67/67 [==============================] - 371s 6s/step - loss: 0.6246 - categorical_accuracy: 0.8109 - val_loss: 0.5253 - val_categorical_accuracy: 0.8700\n",
      "\n",
      "Epoch 00020: saving model to model_init_2021-02-0611_55_59.820448/model-00020-0.62463-0.81095-0.52532-0.87000.h5py\n",
      "Epoch 21/25\n",
      "67/67 [==============================] - 371s 6s/step - loss: 0.5064 - categorical_accuracy: 0.8856 - val_loss: 1.0150 - val_categorical_accuracy: 0.8800\n",
      "\n",
      "Epoch 00021: saving model to model_init_2021-02-0611_55_59.820448/model-00021-0.50640-0.88557-1.01496-0.88000.h5py\n",
      "Epoch 22/25\n",
      "67/67 [==============================] - 372s 6s/step - loss: 0.5468 - categorical_accuracy: 0.8607 - val_loss: 0.4660 - val_categorical_accuracy: 0.8800\n",
      "\n",
      "Epoch 00022: saving model to model_init_2021-02-0611_55_59.820448/model-00022-0.54681-0.86070-0.46603-0.88000.h5py\n",
      "Epoch 23/25\n",
      "67/67 [==============================] - 370s 6s/step - loss: 0.4672 - categorical_accuracy: 0.8905 - val_loss: 0.6874 - val_categorical_accuracy: 0.8700\n",
      "\n",
      "Epoch 00023: saving model to model_init_2021-02-0611_55_59.820448/model-00023-0.46715-0.89055-0.68735-0.87000.h5py\n",
      "Epoch 24/25\n",
      "67/67 [==============================] - 373s 6s/step - loss: 0.5179 - categorical_accuracy: 0.8756 - val_loss: 0.7242 - val_categorical_accuracy: 0.8700\n",
      "\n",
      "Epoch 00024: saving model to model_init_2021-02-0611_55_59.820448/model-00024-0.51788-0.87562-0.72421-0.87000.h5py\n",
      "\n",
      "Epoch 00024: ReduceLROnPlateau reducing learning rate to 3.12499992105586e-06.\n",
      "Epoch 25/25\n",
      "67/67 [==============================] - 372s 6s/step - loss: 0.5042 - categorical_accuracy: 0.8756 - val_loss: 0.3917 - val_categorical_accuracy: 0.8500\n",
      "\n",
      "Epoch 00025: saving model to model_init_2021-02-0611_55_59.820448/model-00025-0.50421-0.87562-0.39171-0.85000.h5py\n"
     ]
    }
   ],
   "source": [
    "history6 = model.fit_generator(train_generator6, steps_per_epoch=steps_per_epoch, epochs=num_epochs, verbose=1, \n",
    "                    callbacks=callbacks_list, validation_data=val_generator6, \n",
    "                    validation_steps=validation_steps, class_weight=None, workers=1, initial_epoch=0)"
   ]
  },
  {
   "cell_type": "markdown",
   "metadata": {},
   "source": [
    "* Accuracy acheived 87%"
   ]
  },
  {
   "cell_type": "code",
   "execution_count": 175,
   "metadata": {},
   "outputs": [
    {
     "data": {
      "image/png": "[encoded data removed]",
      "text/plain": [
       "<Figure size 1080x288 with 2 Axes>"
      ]
     },
     "metadata": {
      "needs_background": "light"
     },
     "output_type": "display_data"
    }
   ],
   "source": [
    "plot(history6)"
   ]
  },
  {
   "cell_type": "markdown",
   "metadata": {},
   "source": [
    "* Clearly graph shows no overfitting which avoid local minima and loss is reduced. Categorical accuracy and valdiation categorical accuracy is also increase and equal which say model is very good  \n",
    "\n",
    "* With 25 epoch and 25% dropout : loss and validation loss is minimum at the end "
   ]
  }
 ],
 "metadata": {
  "kernelspec": {
   "display_name": "Python 3",
   "language": "python",
   "name": "python3"
  },
  "language_info": {
   "codemirror_mode": {
    "name": "ipython",
    "version": 3
   },
   "file_extension": ".py",
   "mimetype": "text/x-python",
   "name": "python",
   "nbconvert_exporter": "python",
   "pygments_lexer": "ipython3",
   "version": "3.7.1"
  }
 },
 "nbformat": 4,
 "nbformat_minor": 2
}
